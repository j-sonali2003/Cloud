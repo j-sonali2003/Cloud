{
  "nbformat": 4,
  "nbformat_minor": 0,
  "metadata": {
    "colab": {
      "provenance": []
    },
    "kernelspec": {
      "name": "python3",
      "display_name": "Python 3"
    },
    "language_info": {
      "name": "python"
    }
  },
  "cells": [
    {
      "cell_type": "code",
      "execution_count": null,
      "metadata": {
        "colab": {
          "base_uri": "https://localhost:8080/"
        },
        "id": "yZGpPQzghh_q",
        "outputId": "c646222a-302f-4c35-8d75-e602d52dcc14"
      },
      "outputs": [
        {
          "output_type": "stream",
          "name": "stdout",
          "text": [
            "Python 3.10.6\n"
          ]
        }
      ],
      "source": [
        "#check the latest python version\n",
        "!python --version"
      ]
    },
    {
      "cell_type": "code",
      "source": [
        "#Q1\n",
        "import numpy as np\n",
        "a = np.random.random((65000,10000))\n",
        "print(a)"
      ],
      "metadata": {
        "colab": {
          "base_uri": "https://localhost:8080/"
        },
        "id": "cr7GSKTQiBsj",
        "outputId": "3ade3670-4371-45de-c9e1-ecba294ae436"
      },
      "execution_count": null,
      "outputs": [
        {
          "output_type": "stream",
          "name": "stdout",
          "text": [
            "[[0.958577   0.27720837 0.43526178 ... 0.34363726 0.87684924 0.25335528]\n",
            " [0.91000469 0.4147764  0.59675579 ... 0.09698338 0.46887301 0.91407552]\n",
            " [0.23425463 0.85350722 0.29815003 ... 0.2981242  0.9213966  0.4822119 ]\n",
            " ...\n",
            " [0.85274708 0.14136397 0.33773017 ... 0.57238746 0.06580218 0.40792371]\n",
            " [0.81938741 0.66238656 0.308056   ... 0.52237749 0.93092109 0.1921705 ]\n",
            " [0.4915191  0.23754008 0.16255771 ... 0.74504077 0.34901362 0.84457227]]\n"
          ]
        }
      ]
    },
    {
      "cell_type": "code",
      "source": [
        "#Q2\n",
        "array = [[5, 8, 10],[2, 0, 9],[5, 4, 2], [2, 3, 9]]\n",
        "a = array[0] #storing 1st row\n",
        "b = array[1:len(array)] #storing the rest of the rows\n",
        "d = dict() #creating a dictionary\n",
        "for i in range(0,len(a)):\n",
        "  d[a[i]] = b[i]\n",
        "print(d)"
      ],
      "metadata": {
        "colab": {
          "base_uri": "https://localhost:8080/"
        },
        "id": "B-dW9iK4O65r",
        "outputId": "14b306f7-78f8-4f2e-b032-a2fc28bcab56"
      },
      "execution_count": null,
      "outputs": [
        {
          "output_type": "stream",
          "name": "stdout",
          "text": [
            "{5: [2, 0, 9], 8: [5, 4, 2], 10: [2, 3, 9]}\n"
          ]
        }
      ]
    },
    {
      "cell_type": "code",
      "source": [
        "#Q3\n",
        "from collections import defaultdict\n",
        "array = [1, 2, 2, 3, 3, 3, 4, 4, 4, 4]\n",
        "d = defaultdict(list)\n",
        "for element in array:\n",
        "  d[element].append(element)\n",
        "result = list(d.values()) #list of values of specific keys in a dictionary\n",
        "print(result)"
      ],
      "metadata": {
        "colab": {
          "base_uri": "https://localhost:8080/"
        },
        "id": "8qhS2XQpQ6Gz",
        "outputId": "599948e4-a199-4c63-b4bc-09d309d2ca89"
      },
      "execution_count": null,
      "outputs": [
        {
          "output_type": "stream",
          "name": "stdout",
          "text": [
            "[[1], [2, 2], [3, 3, 3], [4, 4, 4, 4]]\n"
          ]
        }
      ]
    },
    {
      "cell_type": "code",
      "source": [
        "#Q4\n",
        "import numpy as np\n",
        "array1 = np.random.random((1000,1000))\n",
        "array2 = np.random.random((1000,1000))\n",
        "print(\"Addition: \")\n",
        "print(array1+array2)\n",
        "print(\"Subtraction: \")\n",
        "print(array1-array2)"
      ],
      "metadata": {
        "id": "-jDH-dMJTbA6",
        "colab": {
          "base_uri": "https://localhost:8080/",
          "height": 0
        },
        "outputId": "053ac43f-068e-4f3e-9916-c565d0d888f5"
      },
      "execution_count": 48,
      "outputs": [
        {
          "output_type": "stream",
          "name": "stdout",
          "text": [
            "Addition: \n",
            "[[0.93638174 0.54933317 1.16257108 ... 1.39062475 0.53904122 1.09405703]\n",
            " [1.21282828 1.25198364 1.40748045 ... 0.44763232 0.9788512  0.37796018]\n",
            " [0.70532879 1.00470047 1.28320223 ... 1.03785567 0.79880939 1.17156034]\n",
            " ...\n",
            " [1.00633094 0.2611285  1.38938092 ... 1.81701902 0.50783722 1.69231418]\n",
            " [0.61701389 1.37579628 1.40066969 ... 1.91375335 1.48533086 0.73802334]\n",
            " [1.72038021 1.10807198 1.17094093 ... 1.01226004 1.77908334 1.01997589]]\n",
            "Subtraction: \n",
            "[[-0.32281161 -0.20218079 -0.83422057 ... -0.45966649  0.43636992\n",
            "   0.70624731]\n",
            " [-0.64375796  0.59158923  0.48698245 ... -0.3459832   0.93787022\n",
            "  -0.13623894]\n",
            " [-0.23459189  0.89875119  0.15977811 ... -0.13270813 -0.69555571\n",
            "   0.58125132]\n",
            " ...\n",
            " [-0.79199709 -0.04730909 -0.46129915 ... -0.13981859 -0.2792478\n",
            "   0.0640283 ]\n",
            " [-0.05462354  0.46227907 -0.40126645 ...  0.01414009  0.2726721\n",
            "   0.05007866]\n",
            " [ 0.15390511 -0.45544092  0.62128175 ...  0.47277799  0.09788438\n",
            "   0.7967394 ]]\n"
          ]
        }
      ]
    },
    {
      "cell_type": "code",
      "source": [
        "#Q5\n",
        "import numpy as np\n",
        "n = 1000\n",
        "matrix = np.zeros((n,n), dtype = int)\n",
        "for i in range(n):\n",
        "  for j in range(n):\n",
        "    if(i+j)%2==0:\n",
        "      matrix[i][j] = 2\n",
        "    else:\n",
        "      matrix[i][j] = 1\n",
        "print(matrix)"
      ],
      "metadata": {
        "colab": {
          "base_uri": "https://localhost:8080/",
          "height": 0
        },
        "id": "iiIqfRkCVnHS",
        "outputId": "69d63d89-bd77-4435-a188-a48fb3064aa5"
      },
      "execution_count": 47,
      "outputs": [
        {
          "output_type": "stream",
          "name": "stdout",
          "text": [
            "[[2 1 2 ... 1 2 1]\n",
            " [1 2 1 ... 2 1 2]\n",
            " [2 1 2 ... 1 2 1]\n",
            " ...\n",
            " [1 2 1 ... 2 1 2]\n",
            " [2 1 2 ... 1 2 1]\n",
            " [1 2 1 ... 2 1 2]]\n"
          ]
        }
      ]
    },
    {
      "cell_type": "code",
      "source": [
        "#Q6\n",
        "array = [[5, 8, 10],[2, 0, 9],[5, 4, 2], [2, 3, 9]]\n",
        "print(np.sum(array, axis=0))"
      ],
      "metadata": {
        "id": "e6r4u4KRbBVp",
        "colab": {
          "base_uri": "https://localhost:8080/",
          "height": 0
        },
        "outputId": "2ea81b8f-ab5f-45d3-bea3-78243ffe3830"
      },
      "execution_count": 43,
      "outputs": [
        {
          "output_type": "stream",
          "name": "stdout",
          "text": [
            "[14 15 30]\n"
          ]
        }
      ]
    }
  ]
}